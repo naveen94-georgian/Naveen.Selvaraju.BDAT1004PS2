{
 "cells": [
  {
   "cell_type": "markdown",
   "metadata": {},
   "source": [
    "## BDAT 1004 – Data Programming - Problem Set 2\n",
    "***"
   ]
  },
  {
   "cell_type": "markdown",
   "metadata": {},
   "source": [
    "### Question 1\n",
    "<div style='margin-left:20px;'>\n",
    "<span >\n",
    "Consider the following Python module:<br>\n",
    "<div style='margin-left:40px;height:136px;width:300px;background:MintCream;border:1px solid;'>\n",
    "<div style='padding:8px;'>\n",
    "&emsp;a = 0<br>\n",
    "&emsp;<b>def</b> b():<br>\n",
    "&emsp;&emsp; <b>global</b> a<br>\n",
    "&emsp;&emsp; a = c(a)<br>\n",
    "&emsp;<b>def</b> c(a):<br>\n",
    "&emsp;&emsp; <b>return</b> a + 2<br>\n",
    "</div>\n",
    "</div>\n",
    "After importing the module into the interpreter, you execute:<br>\n",
    "<div style='margin-left:40px;height:96px;width:300px;background:MintCream;border:1px solid;border:1px solid;'>\n",
    "<div style='padding:8px;'>\n",
    "&emsp;>>> b()<br>\n",
    "&emsp;>>> b()<br>\n",
    "&emsp;>>> b()<br>\n",
    "&emsp;>>> a<br>\n",
    "</div>\n",
    "</div>\n",
    "What value is displayed when the last expression (a) is evaluated? Explain your<br>\n",
    "answer by indicating what happens in every executed statement.<br>\n",
    "</span>\n",
    "</div>"
   ]
  },
  {
   "cell_type": "markdown",
   "metadata": {},
   "source": [
    "#### Solution:"
   ]
  },
  {
   "cell_type": "code",
   "execution_count": 1,
   "metadata": {},
   "outputs": [],
   "source": [
    "a = 0\n",
    "def b():\n",
    "    global a\n",
    "    a = c(a)"
   ]
  },
  {
   "cell_type": "code",
   "execution_count": 2,
   "metadata": {},
   "outputs": [],
   "source": [
    "def c(a):\n",
    "    return a + 2"
   ]
  },
  {
   "cell_type": "code",
   "execution_count": 3,
   "metadata": {},
   "outputs": [],
   "source": [
    "b()\n",
    "b()\n",
    "b()"
   ]
  },
  {
   "cell_type": "code",
   "execution_count": 4,
   "metadata": {},
   "outputs": [
    {
     "data": {
      "text/plain": [
       "6"
      ]
     },
     "execution_count": 4,
     "metadata": {},
     "output_type": "execute_result"
    }
   ],
   "source": [
    "a"
   ]
  },
  {
   "cell_type": "markdown",
   "metadata": {},
   "source": [
    "<span style=\"color:blue\">Answer:</span><br>\n",
    "The value of the last expression(a) is : 6<br>\n",
    "- When we execute the function **b**(), it use the value of **'a'** from the global namespace as we used the global keyword.<br>\n",
    "- Since the same **'a'** is passed as an argument to the function **c**() and updated again in **b**(),<br> the global **'a'** variable gets updated whenever the function **b**() is called.<br>\n",
    "- Since the function **b**() is called three times, the variable **'a'** gets added with the number '2' three times, hence the output of the last expression is: **6**.<br>"
   ]
  },
  {
   "cell_type": "markdown",
   "metadata": {},
   "source": [
    "### Question 2\n",
    "<div style='margin-left:20px;'>\n",
    "<span>   \n",
    "Function fileLength(), given to you, takes the name of a file as input and returns the length of the file:<br>\n",
    "<div style='margin-left:40px;height:221px;width:500px;background:MintCream;border:1px solid;'>\n",
    "    <div style='padding:8px;'>\n",
    "&emsp;>>> fileLength('midterm.py')<br>\n",
    "&emsp;284<br>\n",
    "&emsp;>>> fileLength('idterm.py')<br>\n",
    "&emsp;Traceback (most recent call last):<br>\n",
    "&emsp;&nbsp;File \"pyshell#34\", line 1, in module<br>\n",
    "&emsp;&emsp; fileLength('idterm.py')<br>\n",
    "&emsp;&nbsp;File \"/Users/me/midterm.py\", line 3, in fileLength<br>\n",
    "&emsp;&emsp; infile = open(filename)<br>\n",
    "&emsp;FileNotFoundError: [Errno 2] No such file or directory:<br>\n",
    "&emsp;'idterm.py'<br>\n",
    "    </div></div>\n",
    "As shown above, if the file cannot be found by the interpreter or if it cannot be read as a text file, an exception will be raised. Modify function fileLength() so that a friendly message is printed instead:<br>\n",
    "\n",
    "<div style='margin-left:40px;height:101px;width:500px;background:MintCream;border:1px solid;'>\n",
    "    <div style='padding:8px;'>\n",
    "&emsp;>>> fileLength('midterm.py')<br>\n",
    "&emsp;358<br>\n",
    "&emsp;>>> fileLength('idterm.py')<br>\n",
    "&emsp;File idterm.py not found.<br>\n",
    "</div></div>\n",
    "</span>\n",
    "</div>\n"
   ]
  },
  {
   "cell_type": "markdown",
   "metadata": {},
   "source": [
    "#### Solution:"
   ]
  },
  {
   "cell_type": "code",
   "execution_count": 5,
   "metadata": {},
   "outputs": [],
   "source": [
    "def fileLength(fileName):\n",
    "    try:\n",
    "        infile = open(fileName, 'r')\n",
    "        return len(infile.readlines())\n",
    "    except IOError:\n",
    "        print('File',fileName,'not found.')"
   ]
  },
  {
   "cell_type": "code",
   "execution_count": 6,
   "metadata": {},
   "outputs": [
    {
     "data": {
      "text/plain": [
       "29"
      ]
     },
     "execution_count": 6,
     "metadata": {},
     "output_type": "execute_result"
    }
   ],
   "source": [
    "fileLength('q2.txt')"
   ]
  },
  {
   "cell_type": "code",
   "execution_count": 7,
   "metadata": {},
   "outputs": [
    {
     "name": "stdout",
     "output_type": "stream",
     "text": [
      "File q1.txt not found.\n"
     ]
    }
   ],
   "source": [
    "fileLength('q1.txt')"
   ]
  },
  {
   "cell_type": "markdown",
   "metadata": {},
   "source": [
    "### Question 3\n",
    "<div style='margin-left:20px;'>\n",
    "    <p>Write a class named Marsupial that can be used as shown below:</p>\n",
    "    <div style='margin-left:40px;height:136px;width:400px;background:MintCream;border:1px solid;'>\n",
    "        <div style='padding:8px;'>\n",
    "            >>> m = Marsupial()<br>\n",
    "            >>> m.put_in_pouch('doll')<br>\n",
    "            >>> m.put_in_pouch('firetruck')<br>\n",
    "            >>> m.put_in_pouch('kitten')<br>\n",
    "            >>> m.pouch_contents()<br>\n",
    "            &emsp;['doll', 'firetruck', 'kitten']<br>\n",
    "        </div>\n",
    "    </div>\n",
    "    <p>\n",
    "        Now write a class named Kangaroo as a subclass of Marsupial that inherits all the\n",
    "        attributes of Marsupial and also:\n",
    "        a. extends the Marsupial __init__ constructor to take, as input, the\n",
    "        coordinates x and y of the Kangaroo object,\n",
    "        b. supports method jump that takes number values dx and dy as input and\n",
    "        moves the kangaroo by dx units along the x-axis and by dy units along the yaxis, and\n",
    "        c. overloads the __str__ operator so it behaves as shown below.\n",
    "    </p>\n",
    "    <div style='margin-left:40px;height:276px;width:400px;background:MintCream;border:1px solid;'>\n",
    "        <div style='padding:8px;'>\n",
    "            >>> k = Kangaroo(0,0)<br>\n",
    "            >>> print(k)<br>\n",
    "            &emsp;I am a Kangaroo located at coordinates (0,0)<br>\n",
    "            >>> k.put_in_pouch('doll')<br>\n",
    "            >>> k.put_in_pouch('firetruck')<br>\n",
    "            >>> k.put_in_pouch('kitten')<br>\n",
    "            >>> k.pouch_contents()<br>\n",
    "            &emsp;['doll', 'firetruck', 'kitten']<br>\n",
    "            >>> k.jump(1,0)<br>\n",
    "            >>> k.jump(1,0)<br>\n",
    "            >>> k.jump(1,0)<br>\n",
    "            >>> print(k)<br>\n",
    "            I am a Kangaroo located at coordinates (3,0)<br>\n",
    "        </div>\n",
    "    </div>\n",
    "</div>"
   ]
  },
  {
   "cell_type": "markdown",
   "metadata": {},
   "source": [
    "#### Solution:"
   ]
  },
  {
   "cell_type": "code",
   "execution_count": 8,
   "metadata": {},
   "outputs": [],
   "source": [
    "class Marsupial:\n",
    "    def __init__(self):\n",
    "        'initiates an empty list'\n",
    "        self.pouch = []\n",
    "\n",
    "    def put_in_pouch(self, item):\n",
    "        'add items to the pouch'\n",
    "        self.pouch.append(item)\n",
    "        \n",
    "    def pouch_contents(self):\n",
    "        'returns pouch contents'\n",
    "        return self.pouch"
   ]
  },
  {
   "cell_type": "code",
   "execution_count": 9,
   "metadata": {},
   "outputs": [
    {
     "data": {
      "text/plain": [
       "['doll', 'firetruck', 'kitten']"
      ]
     },
     "execution_count": 9,
     "metadata": {},
     "output_type": "execute_result"
    }
   ],
   "source": [
    "m = Marsupial()\n",
    "m.put_in_pouch('doll')\n",
    "m.put_in_pouch('firetruck')\n",
    "m.put_in_pouch('kitten')\n",
    "m.pouch_contents()"
   ]
  },
  {
   "cell_type": "code",
   "execution_count": 10,
   "metadata": {},
   "outputs": [],
   "source": [
    "class Kangaroo(Marsupial):\n",
    "    def __init__(self, x, y):\n",
    "        'initiates x and y coordinates'\n",
    "        Marsupial.__init__(self)\n",
    "        self.x = x\n",
    "        self.y = y\n",
    "    \n",
    "    def jump(self, dx, dy):\n",
    "        'jumps coordinate along x and y axes'\n",
    "        self.x += dx\n",
    "        self.y += dy\n",
    "    \n",
    "    def __str__(self):\n",
    "        'returns string representation'\n",
    "        return 'I am a Kangaroo located at coordinates ({}, {})'.format(self.x, self.y)   "
   ]
  },
  {
   "cell_type": "code",
   "execution_count": 11,
   "metadata": {},
   "outputs": [
    {
     "name": "stdout",
     "output_type": "stream",
     "text": [
      "I am a Kangaroo located at coordinates (0, 0)\n"
     ]
    }
   ],
   "source": [
    "k = Kangaroo(0,0)\n",
    "print(k)"
   ]
  },
  {
   "cell_type": "code",
   "execution_count": 12,
   "metadata": {},
   "outputs": [
    {
     "data": {
      "text/plain": [
       "['doll', 'firetruck', 'kitten']"
      ]
     },
     "execution_count": 12,
     "metadata": {},
     "output_type": "execute_result"
    }
   ],
   "source": [
    "k.put_in_pouch('doll')\n",
    "k.put_in_pouch('firetruck')\n",
    "k.put_in_pouch('kitten')\n",
    "k.pouch_contents()"
   ]
  },
  {
   "cell_type": "code",
   "execution_count": 13,
   "metadata": {},
   "outputs": [
    {
     "name": "stdout",
     "output_type": "stream",
     "text": [
      "I am a Kangaroo located at coordinates (3, 0)\n"
     ]
    }
   ],
   "source": [
    "k.jump(1,0)\n",
    "k.jump(1,0)\n",
    "k.jump(1,0)\n",
    "print(k)"
   ]
  },
  {
   "cell_type": "markdown",
   "metadata": {},
   "source": [
    "### Question 4\n",
    "Implement a new GUI class App that combines user-defined tkinter widget classes<br>\n",
    "Calculator and Mortgage displayed below: (This question can be done using a .py file)<br>"
   ]
  },
  {
   "cell_type": "markdown",
   "metadata": {},
   "source": [
    "#### Mortgage tkinter class"
   ]
  },
  {
   "cell_type": "markdown",
   "metadata": {},
   "source": [
    "<img src=\"mortage.png\" alt=\"Mortage\" width=\"300\" height=\"500\"/>"
   ]
  },
  {
   "cell_type": "markdown",
   "metadata": {},
   "source": [
    "#### Calculator tkinter class"
   ]
  },
  {
   "cell_type": "markdown",
   "metadata": {},
   "source": [
    "<img src=\"calculator.png\" alt=\"calculator\" width=\"300\" height=\"400\"/>"
   ]
  },
  {
   "cell_type": "markdown",
   "metadata": {},
   "source": [
    "#### App tkinter class"
   ]
  },
  {
   "cell_type": "markdown",
   "metadata": {},
   "source": [
    "<img src=\"mortage_calculator.png\" alt=\"Mortage calculator\" width=\"400\" height=\"500\"/>"
   ]
  },
  {
   "cell_type": "markdown",
   "metadata": {},
   "source": [
    "### Question 5\n",
    "&emsp;Write function collatz() that takes a positive integer x as input and prints the <br>\n",
    "&emsp;Collatz sequence starting at x. A Collatz sequence is obtained by repeatedly applying<br>\n",
    "&emsp;this rule to the previous number x in the sequence:<br>\n",
    "$$ \n",
    "\\begin{equation}\n",
    "    x=\n",
    "    \\begin{cases}\n",
    "      \\frac{x}{2}  \\hspace{20mm} \\text{if x is even}\\\\ \n",
    "      3x + 1 \\hspace{14mm} \\text{if x is odd}\\\\\n",
    "    \\end{cases}\n",
    "\\end{equation}\n",
    "$$\n",
    "\n",
    "&emsp;Your function should stop when the sequence gets to number 1. Your<br>\n",
    "&emsp;implementation must be recursive, without any loops.<br>\n",
    "\n",
    "&emsp;\\>>> collatz(1)<br>\n",
    "&emsp;1<br>\n",
    "&emsp;\\>>> collatz(10)<br>\n",
    "&emsp; 10 5 16 8 4 2 1\n"
   ]
  },
  {
   "cell_type": "markdown",
   "metadata": {},
   "source": [
    "#### Solution:"
   ]
  },
  {
   "cell_type": "code",
   "execution_count": 14,
   "metadata": {},
   "outputs": [],
   "source": [
    "def collatz(x):\n",
    "    print(int(x))\n",
    "    if x <= 1:\n",
    "        return\n",
    "    elif x % 2 == 0:\n",
    "        x = x / 2\n",
    "    else:\n",
    "        x = 3*x + 1\n",
    "    collatz(x)"
   ]
  },
  {
   "cell_type": "code",
   "execution_count": 15,
   "metadata": {},
   "outputs": [
    {
     "name": "stdout",
     "output_type": "stream",
     "text": [
      "10\n",
      "5\n",
      "16\n",
      "8\n",
      "4\n",
      "2\n",
      "1\n"
     ]
    }
   ],
   "source": [
    "collatz(10)"
   ]
  },
  {
   "cell_type": "markdown",
   "metadata": {},
   "source": [
    "### Question 6\n",
    "Write a recursive method binary() that takes a non-negative integer n and prints the binary representation of integer n.\n",
    "\n",
    "&emsp;\\>>> binary(0)<br>\n",
    "&emsp;0<br>\n",
    "&emsp;\\>>> binary(1)<br>\n",
    "&emsp;1<br>\n",
    "&emsp;>>> binary(3)<br>\n",
    "&emsp;11<br>\n",
    "&emsp;>>> binary(9)<br>\n",
    "&emsp;1001<br>\n"
   ]
  },
  {
   "cell_type": "code",
   "execution_count": 16,
   "metadata": {},
   "outputs": [],
   "source": [
    "def binary(n):\n",
    "    if n >= 1:\n",
    "        print(n % 2, end='')\n",
    "        binary(n // 2)"
   ]
  },
  {
   "cell_type": "code",
   "execution_count": 17,
   "metadata": {},
   "outputs": [
    {
     "name": "stdout",
     "output_type": "stream",
     "text": [
      "1001"
     ]
    }
   ],
   "source": [
    "binary(9)"
   ]
  },
  {
   "cell_type": "markdown",
   "metadata": {},
   "source": [
    "## Question 7\n",
    "\n",
    "Implement a class named HeadingParser that can be used to parse an HTML document, and retrieve and print all the headings\n",
    "in the document. You should implement your class as a subclass of HTMLParser, defined in Standard Library module html.parser. When fed a string containing HTML code, your class should print the headings, one per line and in the order in which they appear in the document. Each heading should be indented as follows: an h1 heading should have indentation 0, and h2 heading should have indentation 1, etc. Test your implementation using w3c.html.\n",
    "\n",
    "\n",
    "\n",
    "&emsp;>>> infile = open('w3c.html')<br>\n",
    "&emsp;>>> content = infile.read()<br>\n",
    "&emsp;>>> infile.close()<br>\n",
    "&emsp;>>> hp = HeadingParser()<br>\n",
    "&emsp;>>> hp.feed(content)<br>\n",
    "&emsp;W3C Mission<br>\n",
    "&emsp;&nbsp;Principles<br>\n"
   ]
  },
  {
   "cell_type": "code",
   "execution_count": 18,
   "metadata": {},
   "outputs": [],
   "source": [
    "from html.parser import HTMLParser\n",
    "class HeadingParser(HTMLParser):\n",
    "    def __init__(self):\n",
    "        HTMLParser.__init__(self)\n",
    "        self.tag = '' \n",
    "        \n",
    "    def handle_starttag(self, tag, attrs):\n",
    "        self.tag = tag\n",
    "\n",
    "    def handle_data(self, data):\n",
    "        if self.tag == 'h1':\n",
    "            print(data, end='')\n",
    "        elif self.tag == 'h2':\n",
    "            print(' '+data, end='')\n",
    "        elif self.tag == 'h3':\n",
    "            print('  '+data, end='')\n",
    "        elif self.tag == 'h4':\n",
    "            print('   '+data, end='')\n",
    "        elif self.tag == 'h5':\n",
    "            print('    '+data, end='')\n",
    "        elif self.tag == 'h6':\n",
    "            print('     '+data, end='')\n"
   ]
  },
  {
   "cell_type": "code",
   "execution_count": 19,
   "metadata": {},
   "outputs": [
    {
     "name": "stdout",
     "output_type": "stream",
     "text": [
      "  HTML and CSS  \n",
      "            XML  \n",
      "              JavaScript  \n",
      "            Programming  \n",
      "            Server Side  \n",
      "            Web Building  \n",
      "            XML  \n",
      "            HTML  \n",
      "            CSS  \n",
      "            JavaScript  \n",
      "            Programming  \n",
      "            Server Side  \n",
      "            XML  \n",
      "            Character Sets  \n",
      "            Exercises  \n",
      "            Quizzes  \n",
      "           LOG IN \n",
      "        HTML Easy Learning with HTML \"Try it Yourself\" \n",
      "  Example  \n",
      " HTML Examples \n",
      " HTML Exercises \n",
      " Test Yourself With Exercises \n",
      " Exercise: \n",
      " HTML Quiz Test \n",
      " HTML References \n",
      " HTML Exam - Get Your Diploma! \n",
      " W3Schools' Online Certification \n",
      "   SHARE   \n",
      " Report Error \n",
      "\n",
      " Thank You For Helping Us! \n",
      "   Top Tutorials   \n",
      "   Top References   \n",
      "   Top Examples   \n",
      "   Web Certificates   \n"
     ]
    }
   ],
   "source": [
    "infile = open('w3c.html')\n",
    "content = infile.read()\n",
    "infile.close()\n",
    "hp = HeadingParser()\n",
    "hp.feed(content)"
   ]
  },
  {
   "cell_type": "markdown",
   "metadata": {},
   "source": [
    "### Question 8\n",
    "Implement recursive function webdir() that takes as input: a URL (as a string) and<br>\n",
    "non-negative integers depth and indent. Your function should visit every web<br>\n",
    "page reachable from the starting URL web page in depth clicks or less, and print<br>\n",
    "each web page's URL. As shown below, indentation, specified by indent, should<br>\n",
    "be used to indicate the depth of a URL.<br>\n",
    "\n",
    "\n",
    "webdir('http://reed.cs.depaul.edu/lperkovic/csc242/test1.html', 2, 0)<br>\n",
    "http://reed.cs.depaul.edu/lperkovic/csc242/test1.html<br>\n",
    "&nbsp;&nbsp;http://reed.cs.depaul.edu/lperkovic/csc242/test2.html<br>\n",
    "&emsp;&emsp;http://reed.cs.depaul.edu/lperkovic/csc242/test4.html<br>\n",
    "&nbsp;&nbsp;http://reed.cs.depaul.edu/lperkovic/csc242/test3.html<br>\n",
    "&emsp;&emsp;http://reed.cs.depaul.edu/lperkovic/csc242/test4.html<br>\n"
   ]
  },
  {
   "cell_type": "code",
   "execution_count": 20,
   "metadata": {},
   "outputs": [],
   "source": [
    "from urllib.parse import urljoin\n",
    "class Collector(HTMLParser):\n",
    "    'collects hyperlink URLs into a list'\n",
    "\n",
    "    def __init__(self, url):\n",
    "        'initializes parser, the url, and a list'\n",
    "        HTMLParser.__init__(self)\n",
    "        self.url = url\n",
    "        self.links = []\n",
    "\n",
    "    def handle_starttag(self, tag, attrs):\n",
    "        'collects hyperlink URLs in their absolute format'\n",
    "        if tag == 'a':\n",
    "            for attr in attrs:\n",
    "                if attr[0] == 'href':\n",
    "                    # construct absolute URL\n",
    "                    absolute = urljoin(self.url, attr[1])\n",
    "                    if absolute[:4] == 'http': # collect HTTP URLs\n",
    "                        self.links.append(absolute)\n",
    "                        \n",
    "    def getLinks(self):\n",
    "        'returns hyperlinks URLs in their absolute format'\n",
    "        return self.links"
   ]
  },
  {
   "cell_type": "code",
   "execution_count": 21,
   "metadata": {},
   "outputs": [],
   "source": [
    "from urllib.request import urlopen\n",
    "def analyze(url):\n",
    "    content = urlopen(url).read().decode()\n",
    "    collector = Collector(url)\n",
    "    collector.feed(content)\n",
    "    return collector.getLinks()          "
   ]
  },
  {
   "cell_type": "code",
   "execution_count": 22,
   "metadata": {},
   "outputs": [],
   "source": [
    "visited = set()\n",
    "def webdir(url, depth, indent):\n",
    "    global visited\n",
    "    \n",
    "    if depth == 0:\n",
    "        return\n",
    "    print(' '*indent, url)\n",
    "    indent += 1\n",
    "    depth -= 1\n",
    "    \n",
    "    visited.add(url)\n",
    "    links = analyze(url)\n",
    "    # recursively continue crawl from every link in links\n",
    "    for link in links:\n",
    "        # follow link only if not visited\n",
    "        if link not in visited:\n",
    "            try:\n",
    "                webdir(link, depth, indent)\n",
    "            except:\n",
    "                pass"
   ]
  },
  {
   "cell_type": "code",
   "execution_count": 23,
   "metadata": {},
   "outputs": [
    {
     "name": "stdout",
     "output_type": "stream",
     "text": [
      " http://reed.cs.depaul.edu/lperkovic/\n",
      "  http://www.cdm.depaul.edu/about/Pages/School-of-Computing.aspx\n",
      "  http://www.cdm.depaul.edu\n",
      "  https://reed.cs.depaul.edu/lperkovic/courses/csc321/\n",
      "   http://www.depaul.edu/Pages/disclaimer.aspx\n",
      "   http://www.depaul.edu/Pages/contact-us.aspx\n",
      "   https://go.depaul.edu/passwordreset\n",
      "  https://reed.cs.depaul.edu/lperkovic/courses/csc421/\n",
      "  http://reed.cs.depaul.edu/lperkovic/papers/papers.html\n"
     ]
    }
   ],
   "source": [
    "webdir('http://reed.cs.depaul.edu/lperkovic/', 3,0)"
   ]
  },
  {
   "cell_type": "markdown",
   "metadata": {},
   "source": [
    "### Question 9\n",
    "\n",
    "&emsp;Write SQL queries on the below database table that return:<br>\n",
    "&emsp;&emsp;a) All the temperature data.<br>\n",
    "&emsp;&emsp;b) All the cities, but without repetition.<br>\n",
    "&emsp;&emsp;c) All the records for India.<br>\n",
    "&emsp;&emsp;d) All the Fall records.<br>\n",
    "&emsp;&emsp;e) The city, country, and season for which the average rainfall is between 200<br>\n",
    "&emsp;&emsp;&emsp;and 400 millimeters.<br>\n",
    "&emsp;&emsp;f) The city and country for which the average Fall temperature is above 20<br>\n",
    "&emsp;&emsp;&emsp;degrees, in increasing temperature order.<br>\n",
    "&emsp;&emsp;g) The total annual rainfall for Cairo.<br>\n",
    "&emsp;&emsp;h) The total rainfall for each season.<br>\n",
    "\n",
    "<table>\n",
    "    <thead>\n",
    "        <tr>\n",
    "            <th>City</th>\n",
    "            <th style='width:100px;'>Country</th>\n",
    "            <th>Season</th>\n",
    "            <th>Temperature\n",
    "                (C)</th>\n",
    "            <th>Rainfall\n",
    "                (mm)</th>\n",
    "        </tr>\n",
    "    </thead>\n",
    "    <tbody>\n",
    "        <tr>\n",
    "            <td>Mumbai</td>\n",
    "            <td>India</td>\n",
    "            <td>Winter</td>\n",
    "            <td>24.8</td>\n",
    "            <td>5.9</td>\n",
    "        </tr>\n",
    "        <tr>\n",
    "            <td>Mumbai</td>\n",
    "            <td>India</td>\n",
    "            <td>Spring</td>\n",
    "            <td>28.4</td>\n",
    "            <td>16.2</td>\n",
    "        </tr>\n",
    "        <tr>\n",
    "            <td>Mumbai</td>\n",
    "            <td>India</td>\n",
    "            <td>Summer</td>\n",
    "            <td>27.9</td>\n",
    "            <td>1549.4</td>\n",
    "        </tr>\n",
    "        <tr>\n",
    "            <td>Mumbai</td>\n",
    "            <td>India</td>\n",
    "            <td>Fall</td>\n",
    "            <td>27.6</td>\n",
    "            <td>346.0</td>\n",
    "        </tr>\n",
    "        <tr>\n",
    "            <td>London</td>\n",
    "            <td>United Kingdom</td>\n",
    "            <td>Winter</td>\n",
    "            <td>4.2</td>\n",
    "            <td>207.7</td>\n",
    "        </tr>\n",
    "        <tr>\n",
    "            <td>London</td>\n",
    "            <td>United Kingdom</td>\n",
    "            <td>Spring</td>\n",
    "            <td>8.3</td>\n",
    "            <td>169.6</td>\n",
    "        </tr>\n",
    "        <tr>\n",
    "            <td>London</td>\n",
    "            <td>United Kingdom</td>\n",
    "            <td>Summer</td>\n",
    "            <td>15.7</td>\n",
    "            <td>157.0</td>\n",
    "        </tr>\n",
    "        <tr>\n",
    "            <td>London</td>\n",
    "            <td>United Kingdom</td>\n",
    "            <td>Fall</td>\n",
    "            <td>10.4</td>\n",
    "            <td>218.5</td>\n",
    "        </tr>\n",
    "        <tr>\n",
    "            <td>Cairo</td>\n",
    "            <td>Egypt</td>\n",
    "            <td>Winter</td>\n",
    "            <td>13.6</td>\n",
    "            <td>16.5</td>\n",
    "        </tr>\n",
    "        <tr>\n",
    "            <td>Cairo</td>\n",
    "            <td>Egypt</td>\n",
    "            <td>Spring</td>\n",
    "            <td>20.7</td>\n",
    "            <td>6.5</td>\n",
    "        </tr>\n",
    "        <tr>\n",
    "            <td>Cairo</td>\n",
    "            <td>Egypt</td>\n",
    "            <td>Summer</td>\n",
    "            <td>27.7</td>\n",
    "            <td>0.1</td>\n",
    "        </tr>\n",
    "        <tr>\n",
    "            <td>Cairo</td>\n",
    "            <td>Egypt</td>\n",
    "            <td>Fall</td>\n",
    "            <td>22.2</td>\n",
    "            <td>4.5</td>\n",
    "        </tr>\n",
    "    </tbody>\n",
    "</table>"
   ]
  },
  {
   "cell_type": "code",
   "execution_count": 24,
   "metadata": {},
   "outputs": [],
   "source": [
    "import sqlite3 as sqlite\n",
    "con = sqlite.connect('web.db')\n",
    "cur = con.cursor()"
   ]
  },
  {
   "cell_type": "markdown",
   "metadata": {},
   "source": [
    "cur.execute('CREATE TABLE climate(City text, Country text, Season text, Temperature float, Rainfall float)')"
   ]
  },
  {
   "cell_type": "code",
   "execution_count": 25,
   "metadata": {},
   "outputs": [],
   "source": [
    "records = [('Mumbai','India','Winter', 24.8, 5.9),\n",
    "('Mumbai','India','Spring', 28.4, 16.2),\n",
    "('Mumbai','India','Summer', 27.9, 1549.4),\n",
    "('Mumbai','India','Fall',27.6 ,346.0),\n",
    "('London','United Kingdom','Winter', 4.2, 207.7),\n",
    "('London','United Kingdom','Spring', 8.3, 169.6),\n",
    "('London','United Kingdom','Summer', 15.7, 157.0),\n",
    "('London','United Kingdom','Fall', 10.4, 218.5),\n",
    "('Cairo','Egypt','Winter', 13.6, 16.5),\n",
    "('Cairo','Egypt','Spring', 20.7, 6.5),\n",
    "('Cairo','Egypt','Summer', 27.7, 0.1),\n",
    "('Cairo','Egypt','Fall',22.2, 4.5)]"
   ]
  },
  {
   "cell_type": "code",
   "execution_count": 26,
   "metadata": {},
   "outputs": [],
   "source": [
    "for record in records:\n",
    "    cur.execute('INSERT INTO climate values(?,?,?,?,?)', record)"
   ]
  },
  {
   "cell_type": "markdown",
   "metadata": {},
   "source": [
    "#### a) All the temperature data.\n",
    "##### Solution:"
   ]
  },
  {
   "cell_type": "code",
   "execution_count": 27,
   "metadata": {},
   "outputs": [
    {
     "data": {
      "text/plain": [
       "<sqlite3.Cursor at 0x1c885b05490>"
      ]
     },
     "execution_count": 27,
     "metadata": {},
     "output_type": "execute_result"
    }
   ],
   "source": [
    "cur.execute('SELECT Temperature FROM climate')"
   ]
  },
  {
   "cell_type": "code",
   "execution_count": 28,
   "metadata": {},
   "outputs": [
    {
     "data": {
      "text/plain": [
       "[(24.8,),\n",
       " (28.4,),\n",
       " (27.9,),\n",
       " (27.6,),\n",
       " (4.2,),\n",
       " (8.3,),\n",
       " (15.7,),\n",
       " (10.4,),\n",
       " (13.6,),\n",
       " (20.7,),\n",
       " (27.7,),\n",
       " (22.2,)]"
      ]
     },
     "execution_count": 28,
     "metadata": {},
     "output_type": "execute_result"
    }
   ],
   "source": [
    "cur.fetchall()"
   ]
  },
  {
   "cell_type": "markdown",
   "metadata": {},
   "source": [
    "#### b) All the cities, but without repetition.\n",
    "##### Solution"
   ]
  },
  {
   "cell_type": "code",
   "execution_count": 29,
   "metadata": {},
   "outputs": [
    {
     "data": {
      "text/plain": [
       "<sqlite3.Cursor at 0x1c885b05490>"
      ]
     },
     "execution_count": 29,
     "metadata": {},
     "output_type": "execute_result"
    }
   ],
   "source": [
    "cur.execute('SELECT DISTINCT(City) FROM climate')"
   ]
  },
  {
   "cell_type": "code",
   "execution_count": 30,
   "metadata": {},
   "outputs": [
    {
     "data": {
      "text/plain": [
       "[('Mumbai',), ('London',), ('Cairo',)]"
      ]
     },
     "execution_count": 30,
     "metadata": {},
     "output_type": "execute_result"
    }
   ],
   "source": [
    "cur.fetchall()"
   ]
  },
  {
   "cell_type": "markdown",
   "metadata": {},
   "source": [
    "#### c) All the records for India\n",
    "##### Solution"
   ]
  },
  {
   "cell_type": "code",
   "execution_count": 31,
   "metadata": {},
   "outputs": [
    {
     "data": {
      "text/plain": [
       "<sqlite3.Cursor at 0x1c885b05490>"
      ]
     },
     "execution_count": 31,
     "metadata": {},
     "output_type": "execute_result"
    }
   ],
   "source": [
    "cur.execute('SELECT * FROM climate WHERE Country = \"India\"')"
   ]
  },
  {
   "cell_type": "code",
   "execution_count": 32,
   "metadata": {},
   "outputs": [
    {
     "data": {
      "text/plain": [
       "[('Mumbai', 'India', 'Winter', 24.8, 5.9),\n",
       " ('Mumbai', 'India', 'Spring', 28.4, 16.2),\n",
       " ('Mumbai', 'India', 'Summer', 27.9, 1549.4),\n",
       " ('Mumbai', 'India', 'Fall', 27.6, 346.0)]"
      ]
     },
     "execution_count": 32,
     "metadata": {},
     "output_type": "execute_result"
    }
   ],
   "source": [
    "cur.fetchall()"
   ]
  },
  {
   "cell_type": "markdown",
   "metadata": {},
   "source": [
    "#### d) All the Fall records.\n",
    "##### Solution"
   ]
  },
  {
   "cell_type": "code",
   "execution_count": 33,
   "metadata": {},
   "outputs": [
    {
     "data": {
      "text/plain": [
       "<sqlite3.Cursor at 0x1c885b05490>"
      ]
     },
     "execution_count": 33,
     "metadata": {},
     "output_type": "execute_result"
    }
   ],
   "source": [
    "cur.execute('SELECT * FROM climate WHERE Season = \"Fall\"')"
   ]
  },
  {
   "cell_type": "code",
   "execution_count": 34,
   "metadata": {},
   "outputs": [
    {
     "data": {
      "text/plain": [
       "[('Mumbai', 'India', 'Fall', 27.6, 346.0),\n",
       " ('London', 'United Kingdom', 'Fall', 10.4, 218.5),\n",
       " ('Cairo', 'Egypt', 'Fall', 22.2, 4.5)]"
      ]
     },
     "execution_count": 34,
     "metadata": {},
     "output_type": "execute_result"
    }
   ],
   "source": [
    "cur.fetchall()"
   ]
  },
  {
   "cell_type": "markdown",
   "metadata": {},
   "source": [
    "#### e) The city, country, and season for which the average rainfall is between 200 and 400 millimeters\n",
    "##### Solution"
   ]
  },
  {
   "cell_type": "code",
   "execution_count": 35,
   "metadata": {},
   "outputs": [
    {
     "data": {
      "text/plain": [
       "<sqlite3.Cursor at 0x1c885b05490>"
      ]
     },
     "execution_count": 35,
     "metadata": {},
     "output_type": "execute_result"
    }
   ],
   "source": [
    "cur.execute('SELECT City, Country, Season FROM climate WHERE Rainfall between 200 AND 400')"
   ]
  },
  {
   "cell_type": "code",
   "execution_count": 36,
   "metadata": {},
   "outputs": [
    {
     "data": {
      "text/plain": [
       "[('Mumbai', 'India', 'Fall'),\n",
       " ('London', 'United Kingdom', 'Winter'),\n",
       " ('London', 'United Kingdom', 'Fall')]"
      ]
     },
     "execution_count": 36,
     "metadata": {},
     "output_type": "execute_result"
    }
   ],
   "source": [
    "cur.fetchall()"
   ]
  },
  {
   "cell_type": "markdown",
   "metadata": {},
   "source": [
    "#### f) The city and country for which the average Fall temperature is above 20 degrees, in increasing temperature order.\n",
    "##### Solution"
   ]
  },
  {
   "cell_type": "code",
   "execution_count": 37,
   "metadata": {},
   "outputs": [
    {
     "data": {
      "text/plain": [
       "<sqlite3.Cursor at 0x1c885b05490>"
      ]
     },
     "execution_count": 37,
     "metadata": {},
     "output_type": "execute_result"
    }
   ],
   "source": [
    "cur.execute('SELECT City, Country FROM climate WHERE Season=\"Fall\" AND Temperature > 20 ORDER BY Temperature DESC')"
   ]
  },
  {
   "cell_type": "code",
   "execution_count": 38,
   "metadata": {},
   "outputs": [
    {
     "data": {
      "text/plain": [
       "[('Mumbai', 'India'), ('Cairo', 'Egypt')]"
      ]
     },
     "execution_count": 38,
     "metadata": {},
     "output_type": "execute_result"
    }
   ],
   "source": [
    "cur.fetchall()"
   ]
  },
  {
   "cell_type": "markdown",
   "metadata": {},
   "source": [
    "#### g) The total annual rainfall for Cairo.\n",
    "##### Solution"
   ]
  },
  {
   "cell_type": "code",
   "execution_count": 39,
   "metadata": {},
   "outputs": [
    {
     "data": {
      "text/plain": [
       "<sqlite3.Cursor at 0x1c885b05490>"
      ]
     },
     "execution_count": 39,
     "metadata": {},
     "output_type": "execute_result"
    }
   ],
   "source": [
    "cur.execute('SELECT SUM(Rainfall) FROM climate WHERE City= \"Cairo\"')"
   ]
  },
  {
   "cell_type": "code",
   "execution_count": 40,
   "metadata": {},
   "outputs": [
    {
     "data": {
      "text/plain": [
       "[(27.6,)]"
      ]
     },
     "execution_count": 40,
     "metadata": {},
     "output_type": "execute_result"
    }
   ],
   "source": [
    "cur.fetchall()"
   ]
  },
  {
   "cell_type": "markdown",
   "metadata": {},
   "source": [
    "#### h) The total rainfall for each season.\n",
    "##### Solution:"
   ]
  },
  {
   "cell_type": "code",
   "execution_count": 41,
   "metadata": {},
   "outputs": [
    {
     "data": {
      "text/plain": [
       "<sqlite3.Cursor at 0x1c885b05490>"
      ]
     },
     "execution_count": 41,
     "metadata": {},
     "output_type": "execute_result"
    }
   ],
   "source": [
    "cur.execute('SELECT Season, SUM(Rainfall) FROM climate GROUP BY Season')"
   ]
  },
  {
   "cell_type": "code",
   "execution_count": 42,
   "metadata": {},
   "outputs": [
    {
     "data": {
      "text/plain": [
       "[('Fall', 569.0),\n",
       " ('Spring', 192.29999999999998),\n",
       " ('Summer', 1706.5),\n",
       " ('Winter', 230.1)]"
      ]
     },
     "execution_count": 42,
     "metadata": {},
     "output_type": "execute_result"
    }
   ],
   "source": [
    "cur.fetchall()"
   ]
  },
  {
   "cell_type": "markdown",
   "metadata": {},
   "source": [
    "### Question 10\n",
    "\n",
    "<div style='margin-left: 10px;'>\n",
    "Suppose list words is defined as follows:<br>\n",
    "&emsp;>>> words = ['The', 'quick', 'brown', 'fox', 'jumps', 'over','the', 'lazy', 'dog']<br>\n",
    "Write list comprehension expressions that use list words and generate the following lists:<br>\n",
    "<div style='margin-left: 40px;'>\n",
    "<ol style='list-style-type: lower-alpha;'>\n",
    "    <li> ['THE', 'QUICK', 'BROWN', 'FOX', 'JUMPS', 'OVER', 'THE',\n",
    "        'LAZY', 'DOG']</li>\n",
    "    <li> ['the', 'quick', 'brown', 'fox', 'jumps', 'over', 'the',\n",
    "        'lazy', 'dog']</li>\n",
    "    <li> [3, 5, 5, 3, 5, 4, 3, 4, 3] (the list of lengths of words in list\n",
    "        words).</li>\n",
    "    <li> [['THE', 'the', 3], ['QUICK', 'quick', 5], ['BROWN',\n",
    "        'brown', 5], ['FOX', 'fox', 3], ['JUMPS', 'jumps', 5],\n",
    "        ['OVER', 'over', 4], ['THE', 'the', 3], ['LAZY', 'lazy',\n",
    "        4], ['DOG', 'dog', 3]] (the list containing a list for every word of list\n",
    "        words, where each list contains the word in uppercase and lowercase and the\n",
    "        length of the word.)</li>\n",
    "    <li> ['The', 'quick', 'brown', 'fox', 'jumps', 'over', 'the',\n",
    "        'lazy', 'dog'] (the list of words in list words containing 4 or more\n",
    "        characters.)</li>\n",
    "</ol>\n",
    "</div>\n",
    "</div>"
   ]
  },
  {
   "cell_type": "code",
   "execution_count": 43,
   "metadata": {},
   "outputs": [],
   "source": [
    "words = ['The', 'quick', 'brown', 'fox', 'jumps', 'over','the', 'lazy', 'dog']"
   ]
  },
  {
   "cell_type": "markdown",
   "metadata": {},
   "source": [
    "#### a.&emsp;['THE', 'QUICK', 'BROWN', 'FOX', 'JUMPS', 'OVER', 'THE', 'LAZY', 'DOG']\n",
    "##### Solution:"
   ]
  },
  {
   "cell_type": "code",
   "execution_count": 44,
   "metadata": {},
   "outputs": [],
   "source": [
    "words_one = [word.upper() for word in words]"
   ]
  },
  {
   "cell_type": "code",
   "execution_count": 45,
   "metadata": {},
   "outputs": [
    {
     "data": {
      "text/plain": [
       "['THE', 'QUICK', 'BROWN', 'FOX', 'JUMPS', 'OVER', 'THE', 'LAZY', 'DOG']"
      ]
     },
     "execution_count": 45,
     "metadata": {},
     "output_type": "execute_result"
    }
   ],
   "source": [
    "words_one"
   ]
  },
  {
   "cell_type": "markdown",
   "metadata": {},
   "source": [
    "#### b.&emsp;['the', 'quick', 'brown', 'fox', 'jumps', 'over', 'the','lazy', 'dog']\n",
    "##### Solution:"
   ]
  },
  {
   "cell_type": "code",
   "execution_count": 46,
   "metadata": {},
   "outputs": [],
   "source": [
    "words_two = [word.lower() for word in words]"
   ]
  },
  {
   "cell_type": "code",
   "execution_count": 47,
   "metadata": {},
   "outputs": [
    {
     "data": {
      "text/plain": [
       "['the', 'quick', 'brown', 'fox', 'jumps', 'over', 'the', 'lazy', 'dog']"
      ]
     },
     "execution_count": 47,
     "metadata": {},
     "output_type": "execute_result"
    }
   ],
   "source": [
    "words_two"
   ]
  },
  {
   "cell_type": "markdown",
   "metadata": {},
   "source": [
    "#### c.&emsp;[3, 5, 5, 3, 5, 4, 3, 4, 3] (the list of lengths of words in list words).\n",
    "##### Solution:"
   ]
  },
  {
   "cell_type": "code",
   "execution_count": 48,
   "metadata": {},
   "outputs": [],
   "source": [
    "words_three = [len(word) for word in words]"
   ]
  },
  {
   "cell_type": "code",
   "execution_count": 49,
   "metadata": {},
   "outputs": [
    {
     "data": {
      "text/plain": [
       "[3, 5, 5, 3, 5, 4, 3, 4, 3]"
      ]
     },
     "execution_count": 49,
     "metadata": {},
     "output_type": "execute_result"
    }
   ],
   "source": [
    "words_three"
   ]
  },
  {
   "cell_type": "markdown",
   "metadata": {},
   "source": [
    "#### d.&emsp;[['THE', 'the', 3], ['QUICK', 'quick', 5], ['BROWN','brown', 5], ['FOX', 'fox', 3], ['JUMPS', 'jumps', 5],['OVER', 'over', 4], ['THE', 'the', 3], ['LAZY', 'lazy',4], ['DOG', 'dog', 3]] (the list containing a list for every word of list words, where each list contains the word in uppercase and lowercase and the length of the word.)\n",
    "##### Solution:"
   ]
  },
  {
   "cell_type": "code",
   "execution_count": 50,
   "metadata": {},
   "outputs": [],
   "source": [
    "words_four = [[word.upper(), word.lower(), len(word)] for word in words]"
   ]
  },
  {
   "cell_type": "code",
   "execution_count": 51,
   "metadata": {},
   "outputs": [
    {
     "data": {
      "text/plain": [
       "[['THE', 'the', 3],\n",
       " ['QUICK', 'quick', 5],\n",
       " ['BROWN', 'brown', 5],\n",
       " ['FOX', 'fox', 3],\n",
       " ['JUMPS', 'jumps', 5],\n",
       " ['OVER', 'over', 4],\n",
       " ['THE', 'the', 3],\n",
       " ['LAZY', 'lazy', 4],\n",
       " ['DOG', 'dog', 3]]"
      ]
     },
     "execution_count": 51,
     "metadata": {},
     "output_type": "execute_result"
    }
   ],
   "source": [
    "words_four"
   ]
  },
  {
   "cell_type": "markdown",
   "metadata": {},
   "source": [
    "#### e.&emsp;['The', 'quick', 'brown', 'fox', 'jumps', 'over', 'the','lazy', 'dog'] (the list of words in list words containing 4 or more characters.)\n",
    "##### Solution:"
   ]
  },
  {
   "cell_type": "code",
   "execution_count": 52,
   "metadata": {},
   "outputs": [],
   "source": [
    "words_five = [word for word in words if len(word) >= 4]"
   ]
  },
  {
   "cell_type": "code",
   "execution_count": 53,
   "metadata": {},
   "outputs": [
    {
     "data": {
      "text/plain": [
       "['quick', 'brown', 'jumps', 'over', 'lazy']"
      ]
     },
     "execution_count": 53,
     "metadata": {},
     "output_type": "execute_result"
    }
   ],
   "source": [
    "words_five"
   ]
  },
  {
   "cell_type": "code",
   "execution_count": null,
   "metadata": {},
   "outputs": [],
   "source": []
  }
 ],
 "metadata": {
  "kernelspec": {
   "display_name": "dataprog",
   "language": "python",
   "name": "dataprog"
  },
  "language_info": {
   "codemirror_mode": {
    "name": "ipython",
    "version": 3
   },
   "file_extension": ".py",
   "mimetype": "text/x-python",
   "name": "python",
   "nbconvert_exporter": "python",
   "pygments_lexer": "ipython3",
   "version": "3.7.9"
  }
 },
 "nbformat": 4,
 "nbformat_minor": 4
}
